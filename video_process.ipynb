{
 "cells": [
  {
   "cell_type": "code",
   "execution_count": 1,
   "id": "6d5ce048",
   "metadata": {},
   "outputs": [],
   "source": [
    "from tensorflow import keras\n",
    "from os import listdir\n",
    "from os.path import isfile, join\n",
    "import cv2\n",
    "import os"
   ]
  },
  {
   "cell_type": "code",
   "execution_count": 8,
   "id": "40208912",
   "metadata": {},
   "outputs": [
    {
     "name": "stdout",
     "output_type": "stream",
     "text": [
      "28 videos found.\n"
     ]
    }
   ],
   "source": [
    "fpath = \"pedestrian_videos/\"\n",
    "allfiles = [f for f in listdir(fpath) if isfile(join(fpath, f))]\n",
    "print(len(allfiles), \"videos found.\")"
   ]
  },
  {
   "cell_type": "code",
   "execution_count": 7,
   "id": "99af7ebc",
   "metadata": {},
   "outputs": [
    {
     "name": "stdout",
     "output_type": "stream",
     "text": [
      "Creating..../data/0frame0.jpg\n",
      "Creating..../data/0frame10.jpg\n",
      "Creating..../data/0frame20.jpg\n",
      "Creating..../data/0frame30.jpg\n",
      "Creating..../data/0frame40.jpg\n",
      "Creating..../data/0frame50.jpg\n",
      "Creating..../data/0frame60.jpg\n",
      "Creating..../data/0frame70.jpg\n",
      "Creating..../data/0frame80.jpg\n",
      "Creating..../data/0frame90.jpg\n",
      "Creating..../data/0frame100.jpg\n",
      "Creating..../data/0frame110.jpg\n",
      "Creating..../data/0frame120.jpg\n",
      "Creating..../data/0frame130.jpg\n",
      "Creating..../data/0frame140.jpg\n",
      "Creating..../data/0frame150.jpg\n",
      "Creating..../data/0frame160.jpg\n",
      "Creating..../data/0frame170.jpg\n",
      "Creating..../data/0frame180.jpg\n",
      "Creating..../data/0frame190.jpg\n",
      "Creating..../data/0frame200.jpg\n",
      "Creating..../data/0frame210.jpg\n",
      "Creating..../data/0frame220.jpg\n",
      "Creating..../data/0frame230.jpg\n"
     ]
    }
   ],
   "source": [
    "try:\n",
    "    # creating a folder named data\n",
    "    if not os.path.exists('data'):\n",
    "        os.makedirs('data')\n",
    "except OSError:\n",
    "    print ('Error: Creating directory of data')\n",
    "\n",
    "i = 0\n",
    "for f in allfiles:\n",
    "    cam = cv2.VideoCapture(fpath + f)\n",
    "    currentframe = -1\n",
    "    while(True):\n",
    "        # reading from frame\n",
    "        ret, frame = cam.read()\n",
    "        currentframe += 1\n",
    "        if currentframe % 10 != 0: continue\n",
    "\n",
    "        if ret:\n",
    "            # if video is still left continue creating images\n",
    "            name = f'./data/{i}frame' + str(currentframe) + '.jpg'\n",
    "            print ('Creating...' + name)\n",
    "\n",
    "            # writing the extracted images\n",
    "            cv2.imwrite(name, frame)\n",
    "\n",
    "            # increasing counter so that it will\n",
    "            # show how many frames are created\n",
    "            \n",
    "        else:\n",
    "            break\n",
    "    i += 1"
   ]
  },
  {
   "cell_type": "code",
   "execution_count": null,
   "id": "4ce3dca7",
   "metadata": {},
   "outputs": [],
   "source": []
  }
 ],
 "metadata": {
  "kernelspec": {
   "display_name": "Python 3 (ipykernel)",
   "language": "python",
   "name": "python3"
  },
  "language_info": {
   "codemirror_mode": {
    "name": "ipython",
    "version": 3
   },
   "file_extension": ".py",
   "mimetype": "text/x-python",
   "name": "python",
   "nbconvert_exporter": "python",
   "pygments_lexer": "ipython3",
   "version": "3.8.16"
  }
 },
 "nbformat": 4,
 "nbformat_minor": 5
}
