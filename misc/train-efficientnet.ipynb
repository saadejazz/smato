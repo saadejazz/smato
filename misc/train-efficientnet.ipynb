{
 "cells": [
  {
   "cell_type": "code",
   "execution_count": 1,
   "id": "8ec0fe83",
   "metadata": {},
   "outputs": [
    {
     "name": "stderr",
     "output_type": "stream",
     "text": [
      "C:\\Users\\Saad\\miniconda3\\envs\\looking\\lib\\site-packages\\numpy\\_distributor_init.py:30: UserWarning: loaded more than 1 DLL from .libs:\n",
      "C:\\Users\\Saad\\miniconda3\\envs\\looking\\lib\\site-packages\\numpy\\.libs\\libopenblas.GK7GX5KEQ4F6UYO3P26ULGBQYHGQO7J4.gfortran-win_amd64.dll\n",
      "C:\\Users\\Saad\\miniconda3\\envs\\looking\\lib\\site-packages\\numpy\\.libs\\libopenblas.PYQHXLVVQ7VESDPUVUADXEVJOBGHJPAY.gfortran-win_amd64.dll\n",
      "  warnings.warn(\"loaded more than 1 DLL from .libs:\"\n"
     ]
    }
   ],
   "source": [
    "import matplotlib.pyplot as plt\n",
    "import numpy as np\n",
    "import os\n",
    "import tensorflow as tf\n",
    "import tensorflow_hub as hub\n",
    "from tensorflow import keras\n",
    "\n",
    "from keras.callbacks import Callback, ModelCheckpoint\n",
    "from keras.wrappers.scikit_learn import KerasClassifier\n",
    "import keras.backend as K"
   ]
  },
  {
   "cell_type": "markdown",
   "id": "a78f943a",
   "metadata": {},
   "source": [
    "## Loading Data\n",
    "Data is loaded from images in the folder *\"dataset/\"*. There are two classes: *\"true\"* specifies images with the pedestrian using a smartphone, while *\"false\"* specifies images with the pedestrian not holding a smartphone. The images are loaded, shuffled and batched."
   ]
  },
  {
   "cell_type": "code",
   "execution_count": 2,
   "id": "436e5491",
   "metadata": {},
   "outputs": [],
   "source": [
    "BATCH_SIZE = 64\n",
    "IMAGE_SIZE = (224, 224)\n",
    "\n",
    "IMAGE_DIR = \"dataset/\"\n",
    "MODEL_NAME = \"smato_efficientnet_v2m\"\n",
    "SAVE_DIR = f\"saved_models/{MODEL_NAME}/\""
   ]
  },
  {
   "cell_type": "code",
   "execution_count": 15,
   "id": "a828557b",
   "metadata": {},
   "outputs": [
    {
     "name": "stdout",
     "output_type": "stream",
     "text": [
      "Found 13866 files belonging to 2 classes.\n",
      "Number of pedestrians with a smartphone:  3770\n",
      "Number of pedestrians without a smartphone:  10096\n",
      "Classes:  ['false', 'true']\n",
      "Total number of batches created:  217\n"
     ]
    }
   ],
   "source": [
    "dataset = tf.keras.utils.image_dataset_from_directory(IMAGE_DIR,\n",
    "                                                      shuffle = False,\n",
    "                                                      seed = 142,\n",
    "                                                      batch_size = None,\n",
    "                                                      image_size = IMAGE_SIZE)\n",
    "CLASS_NAMES = dataset.class_names\n",
    "dataset_size = len(dataset)\n",
    "dataset = dataset.shuffle(buffer_size = dataset_size, seed = 142, reshuffle_each_iteration = False)\n",
    "# count images in each category\n",
    "counts = {\n",
    "    1: 0,\n",
    "    0: 0\n",
    "}\n",
    "for i in dataset:\n",
    "    _, cls = i\n",
    "    counts[int(cls)] += 1\n",
    "print(\"Number of pedestrians with a smartphone: \", counts[1])\n",
    "print(\"Number of pedestrians without a smartphone: \", counts[0])\n",
    "\n",
    "# batch the dataset\n",
    "dataset = dataset.batch(batch_size = BATCH_SIZE)\n",
    "print(\"Classes: \", CLASS_NAMES)\n",
    "print(\"Total number of batches created: \", len(dataset))"
   ]
  },
  {
   "cell_type": "markdown",
   "id": "f25a7f9c",
   "metadata": {},
   "source": [
    "## Splitting Dataset\n",
    "The dataset is split into training, validation, and test set. 85% of the dataset is reserved for training, while the rest is divided into validation and test dataset in the ratio of 60:40."
   ]
  },
  {
   "cell_type": "code",
   "execution_count": 16,
   "id": "040f3bbe",
   "metadata": {},
   "outputs": [],
   "source": [
    "# train-validation split\n",
    "num_batches = len(dataset)\n",
    "val_dataset = dataset.take(int(num_batches * 0.15))\n",
    "train_dataset = dataset.skip(int(num_batches * 0.15))\n",
    "\n",
    "# validation-test split\n",
    "num_val_batches = len(val_dataset)\n",
    "test_dataset = val_dataset.take(int(num_val_batches * 0.4))\n",
    "validation_dataset = val_dataset.skip(int(num_val_batches * 0.4))"
   ]
  },
  {
   "cell_type": "code",
   "execution_count": 17,
   "id": "6e59cf26",
   "metadata": {},
   "outputs": [
    {
     "name": "stdout",
     "output_type": "stream",
     "text": [
      "Number of batches in Training Dataset:  185\n",
      "Number of batches in Validation Dataset:  20\n",
      "Number of batches in Test Dataset:  12\n"
     ]
    }
   ],
   "source": [
    "print(\"Number of batches in Training Dataset: \", len(train_dataset))\n",
    "print(\"Number of batches in Validation Dataset: \", len(validation_dataset))\n",
    "print(\"Number of batches in Test Dataset: \", len(test_dataset))"
   ]
  },
  {
   "cell_type": "code",
   "execution_count": 18,
   "id": "1e7be352",
   "metadata": {},
   "outputs": [],
   "source": [
    "# buffered prefetching\n",
    "AUTOTUNE = tf.data.AUTOTUNE\n",
    "train_dataset = train_dataset.prefetch(buffer_size = AUTOTUNE)\n",
    "validation_dataset = validation_dataset.prefetch(buffer_size = AUTOTUNE)\n",
    "test_dataset = test_dataset.prefetch(buffer_size = AUTOTUNE)"
   ]
  },
  {
   "cell_type": "markdown",
   "id": "3481c702",
   "metadata": {},
   "source": [
    "## Model Definition\n",
    "A model is defined using MobileNet-V2 as the feature extractor, followed by three fully connected hidden layers. Batch Normalization is performed after each FC layer, and dropout is used to reduce overfitting."
   ]
  },
  {
   "cell_type": "code",
   "execution_count": 9,
   "id": "b2b6b61e",
   "metadata": {
    "scrolled": true
   },
   "outputs": [],
   "source": [
    "# transfer learning approach - EfficientNetV2\n",
    "\n",
    "# load model and remove the head - will act as feature extractor/image embedding\n",
    "transferred = keras.applications.EfficientNetV2M(include_top = False)\n",
    "\n",
    "# freeze all layers of the feature extractor\n",
    "transferred.trainable = False\n",
    "\n",
    "# form the keras mode\n",
    "inputs = keras.Input(IMAGE_SIZE + (3, ))\n",
    "\n",
    "x = tf.keras.applications.efficientnet_v2.preprocess_input(inputs)\n",
    "x = transferred(x, training = False)\n",
    "x = keras.layers.GlobalAveragePooling2D()(x)\n",
    "x = keras.layers.Dropout(0.6)(x)\n",
    "\n",
    "x = keras.layers.Dense(128)(x)\n",
    "x = keras.layers.BatchNormalization()(x)\n",
    "x = keras.layers.Activation(\"relu\")(x)\n",
    "x = keras.layers.Dropout(0.5)(x)\n",
    "\n",
    "x = keras.layers.Dense(32)(x)\n",
    "x = keras.layers.BatchNormalization()(x)\n",
    "x = keras.layers.Activation(\"relu\")(x)\n",
    "x = keras.layers.Dropout(0.4)(x)\n",
    "\n",
    "x = keras.layers.Dense(8)(x)\n",
    "x = keras.layers.BatchNormalization()(x)\n",
    "x = keras.layers.Activation(\"relu\")(x)\n",
    "x = keras.layers.Dropout(0.3)(x)\n",
    "\n",
    "x = keras.layers.Dense(1, activation = \"sigmoid\")(x)\n",
    "\n",
    "# build and show model\n",
    "model = keras.Model(inputs, x, name = MODEL_NAME)\n",
    "model.summary()"
   ]
  },
  {
   "cell_type": "markdown",
   "id": "17cdb2cb",
   "metadata": {},
   "source": [
    "## Metric for choosing best model: F1 Score"
   ]
  },
  {
   "cell_type": "code",
   "execution_count": 9,
   "id": "26f68eac",
   "metadata": {},
   "outputs": [],
   "source": [
    "def f1(y_true, y_pred):\n",
    "    true_positives = K.sum(K.round(K.clip(y_true * y_pred, 0, 1)))\n",
    "    possible_positives = K.sum(K.round(K.clip(y_true, 0, 1)))\n",
    "    predicted_positives = K.sum(K.round(K.clip(y_pred, 0, 1)))\n",
    "    precision = true_positives / (predicted_positives + K.epsilon())\n",
    "    recall = true_positives / (possible_positives + K.epsilon())\n",
    "    f1_val = 2 * (precision * recall)/(precision + recall + K.epsilon())\n",
    "    return f1_val"
   ]
  },
  {
   "cell_type": "markdown",
   "id": "2f553bb8",
   "metadata": {},
   "source": [
    "## Model Training\n",
    "While training the model, only the best model is saved. This is decided by the metric accuracy on the validation set"
   ]
  },
  {
   "cell_type": "code",
   "execution_count": 11,
   "id": "5cd79223",
   "metadata": {},
   "outputs": [],
   "source": [
    "model.compile(\n",
    "  optimizer = tf.keras.optimizers.Adam(),\n",
    "  loss = tf.keras.losses.BinaryCrossentropy(),\n",
    "  metrics = ['acc', f1]\n",
    ")"
   ]
  },
  {
   "cell_type": "code",
   "execution_count": 12,
   "id": "a3969937",
   "metadata": {},
   "outputs": [
    {
     "name": "stdout",
     "output_type": "stream",
     "text": [
      "Epoch 1/50\n",
      "185/185 [==============================] - ETA: 0s - loss: 0.2371 - acc: 0.9032 - f1: 0.8099INFO:tensorflow:Assets written to: saved_models/smato_efficientnet_v2m\\assets\n",
      "185/185 [==============================] - 223s 1s/step - loss: 0.2371 - acc: 0.9032 - f1: 0.8099 - val_loss: 0.1803 - val_acc: 0.9422 - val_f1: 0.8891\n",
      "Epoch 2/50\n",
      "185/185 [==============================] - ETA: 0s - loss: 0.2377 - acc: 0.9042 - f1: 0.8112INFO:tensorflow:Assets written to: saved_models/smato_efficientnet_v2m\\assets\n",
      "185/185 [==============================] - 222s 1s/step - loss: 0.2377 - acc: 0.9042 - f1: 0.8112 - val_loss: 0.1789 - val_acc: 0.9430 - val_f1: 0.8904\n",
      "Epoch 3/50\n",
      "185/185 [==============================] - ETA: 0s - loss: 0.2323 - acc: 0.9071 - f1: 0.8163INFO:tensorflow:Assets written to: saved_models/smato_efficientnet_v2m\\assets\n",
      "185/185 [==============================] - 228s 1s/step - loss: 0.2323 - acc: 0.9071 - f1: 0.8163 - val_loss: 0.1778 - val_acc: 0.9438 - val_f1: 0.8928\n",
      "Epoch 4/50\n",
      "185/185 [==============================] - ETA: 0s - loss: 0.2301 - acc: 0.9036 - f1: 0.8096INFO:tensorflow:Assets written to: saved_models/smato_efficientnet_v2m\\assets\n",
      "185/185 [==============================] - 227s 1s/step - loss: 0.2301 - acc: 0.9036 - f1: 0.8096 - val_loss: 0.1772 - val_acc: 0.9469 - val_f1: 0.8984\n",
      "Epoch 5/50\n",
      "185/185 [==============================] - 142s 552ms/step - loss: 0.2293 - acc: 0.9084 - f1: 0.8220 - val_loss: 0.1742 - val_acc: 0.9430 - val_f1: 0.8895\n",
      "Epoch 6/50\n",
      "185/185 [==============================] - 142s 554ms/step - loss: 0.2348 - acc: 0.9038 - f1: 0.8114 - val_loss: 0.1742 - val_acc: 0.9461 - val_f1: 0.8966\n",
      "Epoch 7/50\n",
      "185/185 [==============================] - 142s 554ms/step - loss: 0.2297 - acc: 0.9070 - f1: 0.8168 - val_loss: 0.1742 - val_acc: 0.9406 - val_f1: 0.8846\n",
      "Epoch 8/50\n",
      "185/185 [==============================] - 144s 556ms/step - loss: 0.2247 - acc: 0.9119 - f1: 0.8269 - val_loss: 0.1730 - val_acc: 0.9445 - val_f1: 0.8936\n",
      "Epoch 9/50\n",
      "185/185 [==============================] - 144s 560ms/step - loss: 0.2269 - acc: 0.9096 - f1: 0.8217 - val_loss: 0.1733 - val_acc: 0.9398 - val_f1: 0.8818\n",
      "Epoch 10/50\n",
      "185/185 [==============================] - 144s 560ms/step - loss: 0.2277 - acc: 0.9096 - f1: 0.8256 - val_loss: 0.1747 - val_acc: 0.9430 - val_f1: 0.8860\n",
      "Epoch 11/50\n",
      "185/185 [==============================] - 144s 559ms/step - loss: 0.2314 - acc: 0.9063 - f1: 0.8183 - val_loss: 0.1747 - val_acc: 0.9438 - val_f1: 0.8906\n",
      "Epoch 12/50\n",
      "185/185 [==============================] - 146s 568ms/step - loss: 0.2331 - acc: 0.9033 - f1: 0.8088 - val_loss: 0.1781 - val_acc: 0.9453 - val_f1: 0.8919\n",
      "Epoch 13/50\n",
      "185/185 [==============================] - 147s 568ms/step - loss: 0.2282 - acc: 0.9088 - f1: 0.8212 - val_loss: 0.1763 - val_acc: 0.9430 - val_f1: 0.8901\n",
      "Epoch 14/50\n",
      "185/185 [==============================] - 147s 568ms/step - loss: 0.2321 - acc: 0.9079 - f1: 0.8185 - val_loss: 0.1755 - val_acc: 0.9406 - val_f1: 0.8837\n",
      "Epoch 15/50\n",
      "185/185 [==============================] - 147s 571ms/step - loss: 0.2315 - acc: 0.9077 - f1: 0.8189 - val_loss: 0.1784 - val_acc: 0.9414 - val_f1: 0.8874\n",
      "Epoch 16/50\n",
      "185/185 [==============================] - 146s 567ms/step - loss: 0.2278 - acc: 0.9090 - f1: 0.8202 - val_loss: 0.1765 - val_acc: 0.9422 - val_f1: 0.8880\n",
      "Epoch 17/50\n",
      "185/185 [==============================] - 147s 571ms/step - loss: 0.2266 - acc: 0.9088 - f1: 0.8220 - val_loss: 0.1765 - val_acc: 0.9406 - val_f1: 0.8847\n",
      "Epoch 18/50\n",
      "185/185 [==============================] - 146s 568ms/step - loss: 0.2303 - acc: 0.9089 - f1: 0.8197 - val_loss: 0.1763 - val_acc: 0.9445 - val_f1: 0.8947\n",
      "Epoch 19/50\n",
      "185/185 [==============================] - 147s 572ms/step - loss: 0.2279 - acc: 0.9090 - f1: 0.8225 - val_loss: 0.1765 - val_acc: 0.9375 - val_f1: 0.8791\n",
      "Epoch 20/50\n",
      "185/185 [==============================] - 147s 572ms/step - loss: 0.2317 - acc: 0.9056 - f1: 0.8136 - val_loss: 0.1778 - val_acc: 0.9391 - val_f1: 0.8813\n",
      "Epoch 21/50\n",
      "185/185 [==============================] - 148s 573ms/step - loss: 0.2409 - acc: 0.9040 - f1: 0.8110 - val_loss: 0.1803 - val_acc: 0.9367 - val_f1: 0.8765\n",
      "Epoch 22/50\n",
      "185/185 [==============================] - 148s 575ms/step - loss: 0.2276 - acc: 0.9087 - f1: 0.8189 - val_loss: 0.1785 - val_acc: 0.9422 - val_f1: 0.8899\n",
      "Epoch 23/50\n",
      "185/185 [==============================] - 149s 577ms/step - loss: 0.2241 - acc: 0.9095 - f1: 0.8232 - val_loss: 0.1765 - val_acc: 0.9422 - val_f1: 0.8916\n",
      "Epoch 24/50\n",
      "185/185 [==============================] - 149s 576ms/step - loss: 0.2300 - acc: 0.9057 - f1: 0.8145 - val_loss: 0.1798 - val_acc: 0.9375 - val_f1: 0.8794\n",
      "Epoch 25/50\n",
      "185/185 [==============================] - 149s 578ms/step - loss: 0.2285 - acc: 0.9117 - f1: 0.8293 - val_loss: 0.1763 - val_acc: 0.9375 - val_f1: 0.8806\n",
      "Epoch 26/50\n",
      "185/185 [==============================] - 150s 583ms/step - loss: 0.2291 - acc: 0.9083 - f1: 0.8195 - val_loss: 0.1752 - val_acc: 0.9430 - val_f1: 0.8918\n",
      "Epoch 27/50\n",
      "185/185 [==============================] - 151s 581ms/step - loss: 0.2234 - acc: 0.9075 - f1: 0.8198 - val_loss: 0.1705 - val_acc: 0.9461 - val_f1: 0.8977\n",
      "Epoch 28/50\n",
      "185/185 [==============================] - 150s 584ms/step - loss: 0.2319 - acc: 0.9087 - f1: 0.8206 - val_loss: 0.1721 - val_acc: 0.9445 - val_f1: 0.8923\n",
      "Epoch 29/50\n",
      "185/185 [==============================] - ETA: 0s - loss: 0.2242 - acc: 0.9087 - f1: 0.8193INFO:tensorflow:Assets written to: saved_models/smato_efficientnet_v2m\\assets\n",
      "185/185 [==============================] - 243s 1s/step - loss: 0.2242 - acc: 0.9087 - f1: 0.8193 - val_loss: 0.1685 - val_acc: 0.9523 - val_f1: 0.9102\n",
      "Epoch 30/50\n",
      "185/185 [==============================] - 151s 584ms/step - loss: 0.2301 - acc: 0.9100 - f1: 0.8232 - val_loss: 0.1730 - val_acc: 0.9469 - val_f1: 0.8987\n",
      "Epoch 31/50\n",
      "185/185 [==============================] - 152s 587ms/step - loss: 0.2224 - acc: 0.9115 - f1: 0.8268 - val_loss: 0.1673 - val_acc: 0.9477 - val_f1: 0.8984\n",
      "Epoch 32/50\n",
      "185/185 [==============================] - 153s 590ms/step - loss: 0.2286 - acc: 0.9086 - f1: 0.8197 - val_loss: 0.1699 - val_acc: 0.9469 - val_f1: 0.8981\n",
      "Epoch 33/50\n",
      "185/185 [==============================] - 152s 584ms/step - loss: 0.2261 - acc: 0.9092 - f1: 0.8221 - val_loss: 0.1691 - val_acc: 0.9445 - val_f1: 0.8944\n",
      "Epoch 34/50\n",
      "185/185 [==============================] - 151s 587ms/step - loss: 0.2286 - acc: 0.9095 - f1: 0.8222 - val_loss: 0.1726 - val_acc: 0.9492 - val_f1: 0.9014\n",
      "Epoch 35/50\n",
      "185/185 [==============================] - 151s 585ms/step - loss: 0.2203 - acc: 0.9130 - f1: 0.8290 - val_loss: 0.1735 - val_acc: 0.9484 - val_f1: 0.8993\n",
      "Epoch 36/50\n",
      "185/185 [==============================] - 151s 584ms/step - loss: 0.2264 - acc: 0.9075 - f1: 0.8177 - val_loss: 0.1749 - val_acc: 0.9438 - val_f1: 0.8904\n",
      "Epoch 37/50\n",
      "185/185 [==============================] - 151s 585ms/step - loss: 0.2204 - acc: 0.9112 - f1: 0.8258 - val_loss: 0.1700 - val_acc: 0.9477 - val_f1: 0.9014\n",
      "Epoch 38/50\n",
      "185/185 [==============================] - 151s 585ms/step - loss: 0.2249 - acc: 0.9090 - f1: 0.8224 - val_loss: 0.1714 - val_acc: 0.9484 - val_f1: 0.9021\n",
      "Epoch 39/50\n",
      "185/185 [==============================] - 154s 593ms/step - loss: 0.2237 - acc: 0.9107 - f1: 0.8246 - val_loss: 0.1693 - val_acc: 0.9469 - val_f1: 0.8982\n",
      "Epoch 40/50\n",
      "185/185 [==============================] - 152s 589ms/step - loss: 0.2189 - acc: 0.9112 - f1: 0.8272 - val_loss: 0.1675 - val_acc: 0.9461 - val_f1: 0.8971\n",
      "Epoch 41/50\n",
      "185/185 [==============================] - 152s 588ms/step - loss: 0.2277 - acc: 0.9098 - f1: 0.8250 - val_loss: 0.1711 - val_acc: 0.9492 - val_f1: 0.9035\n",
      "Epoch 42/50\n",
      "185/185 [==============================] - 152s 590ms/step - loss: 0.2198 - acc: 0.9095 - f1: 0.8226 - val_loss: 0.1696 - val_acc: 0.9484 - val_f1: 0.9029\n",
      "Epoch 43/50\n",
      "185/185 [==============================] - 152s 587ms/step - loss: 0.2150 - acc: 0.9144 - f1: 0.8332 - val_loss: 0.1668 - val_acc: 0.9438 - val_f1: 0.8942\n",
      "Epoch 44/50\n",
      "185/185 [==============================] - 152s 589ms/step - loss: 0.2220 - acc: 0.9117 - f1: 0.8266 - val_loss: 0.1660 - val_acc: 0.9477 - val_f1: 0.9006\n",
      "Epoch 45/50\n"
     ]
    },
    {
     "name": "stdout",
     "output_type": "stream",
     "text": [
      "185/185 [==============================] - 152s 589ms/step - loss: 0.2233 - acc: 0.9116 - f1: 0.8255 - val_loss: 0.1675 - val_acc: 0.9469 - val_f1: 0.8990\n",
      "Epoch 46/50\n",
      "185/185 [==============================] - 152s 587ms/step - loss: 0.2211 - acc: 0.9142 - f1: 0.8348 - val_loss: 0.1700 - val_acc: 0.9453 - val_f1: 0.8957\n",
      "Epoch 47/50\n",
      "185/185 [==============================] - 153s 593ms/step - loss: 0.2147 - acc: 0.9161 - f1: 0.8357 - val_loss: 0.1705 - val_acc: 0.9422 - val_f1: 0.8883\n",
      "Epoch 48/50\n",
      "185/185 [==============================] - 154s 593ms/step - loss: 0.2291 - acc: 0.9090 - f1: 0.8233 - val_loss: 0.1720 - val_acc: 0.9445 - val_f1: 0.8926\n",
      "Epoch 49/50\n",
      "185/185 [==============================] - 154s 594ms/step - loss: 0.2216 - acc: 0.9141 - f1: 0.8323 - val_loss: 0.1733 - val_acc: 0.9430 - val_f1: 0.8892\n",
      "Epoch 50/50\n",
      "185/185 [==============================] - 154s 595ms/step - loss: 0.2174 - acc: 0.9149 - f1: 0.8330 - val_loss: 0.1697 - val_acc: 0.9469 - val_f1: 0.8982\n"
     ]
    }
   ],
   "source": [
    "NUM_EPOCHS = 50\n",
    "\n",
    "model_checkpoint_callback = tf.keras.callbacks.ModelCheckpoint(\n",
    "    filepath = SAVE_DIR,\n",
    "    save_weights_only = False,\n",
    "    monitor = 'val_f1',\n",
    "    mode = 'max',\n",
    "    save_best_only = True\n",
    ")\n",
    "\n",
    "history = model.fit(train_dataset,\n",
    "                    validation_data = validation_dataset,\n",
    "                    epochs = NUM_EPOCHS,\n",
    "                    callbacks = [model_checkpoint_callback])"
   ]
  },
  {
   "cell_type": "markdown",
   "id": "07998eeb",
   "metadata": {},
   "source": [
    "## Model Evaluation\n",
    "The best trained model is loaded and the test dataset is used for evaluating performance on data never been used in this process."
   ]
  },
  {
   "cell_type": "code",
   "execution_count": 13,
   "id": "1f3ddb21",
   "metadata": {},
   "outputs": [
    {
     "name": "stdout",
     "output_type": "stream",
     "text": [
      "12/12 [==============================] - 54s 643ms/step - loss: 0.2020 - acc: 0.9297 - f1: 0.8772\n"
     ]
    },
    {
     "data": {
      "text/plain": [
       "[0.20198650658130646, 0.9296875, 0.8771961331367493]"
      ]
     },
     "execution_count": 13,
     "metadata": {},
     "output_type": "execute_result"
    }
   ],
   "source": [
    "model = keras.models.load_model(SAVE_DIR, custom_objects = {\"f1\": f1})\n",
    "model.evaluate(test_dataset)"
   ]
  },
  {
   "cell_type": "markdown",
   "id": "685b2f07",
   "metadata": {},
   "source": [
    "## Example Images\n",
    "A bunch of images from the test dataset are chosen to show the performance of the model and to understand the reasons for misclassification."
   ]
  },
  {
   "cell_type": "code",
   "execution_count": 20,
   "id": "967adef1",
   "metadata": {},
   "outputs": [
    {
     "name": "stderr",
     "output_type": "stream",
     "text": [
      "Clipping input data to the valid range for imshow with RGB data ([0..1] for floats or [0..255] for integers).\n",
      "Clipping input data to the valid range for imshow with RGB data ([0..1] for floats or [0..255] for integers).\n",
      "Clipping input data to the valid range for imshow with RGB data ([0..1] for floats or [0..255] for integers).\n",
      "Clipping input data to the valid range for imshow with RGB data ([0..1] for floats or [0..255] for integers).\n",
      "Clipping input data to the valid range for imshow with RGB data ([0..1] for floats or [0..255] for integers).\n",
      "Clipping input data to the valid range for imshow with RGB data ([0..1] for floats or [0..255] for integers).\n",
      "Clipping input data to the valid range for imshow with RGB data ([0..1] for floats or [0..255] for integers).\n",
      "Clipping input data to the valid range for imshow with RGB data ([0..1] for floats or [0..255] for integers).\n",
      "Clipping input data to the valid range for imshow with RGB data ([0..1] for floats or [0..255] for integers).\n",
      "Clipping input data to the valid range for imshow with RGB data ([0..1] for floats or [0..255] for integers).\n",
      "Clipping input data to the valid range for imshow with RGB data ([0..1] for floats or [0..255] for integers).\n",
      "Clipping input data to the valid range for imshow with RGB data ([0..1] for floats or [0..255] for integers).\n",
      "Clipping input data to the valid range for imshow with RGB data ([0..1] for floats or [0..255] for integers).\n",
      "Clipping input data to the valid range for imshow with RGB data ([0..1] for floats or [0..255] for integers).\n",
      "Clipping input data to the valid range for imshow with RGB data ([0..1] for floats or [0..255] for integers).\n",
      "Clipping input data to the valid range for imshow with RGB data ([0..1] for floats or [0..255] for integers).\n",
      "Clipping input data to the valid range for imshow with RGB data ([0..1] for floats or [0..255] for integers).\n",
      "Clipping input data to the valid range for imshow with RGB data ([0..1] for floats or [0..255] for integers).\n",
      "Clipping input data to the valid range for imshow with RGB data ([0..1] for floats or [0..255] for integers).\n",
      "Clipping input data to the valid range for imshow with RGB data ([0..1] for floats or [0..255] for integers).\n",
      "Clipping input data to the valid range for imshow with RGB data ([0..1] for floats or [0..255] for integers).\n",
      "Clipping input data to the valid range for imshow with RGB data ([0..1] for floats or [0..255] for integers).\n",
      "Clipping input data to the valid range for imshow with RGB data ([0..1] for floats or [0..255] for integers).\n",
      "Clipping input data to the valid range for imshow with RGB data ([0..1] for floats or [0..255] for integers).\n",
      "Clipping input data to the valid range for imshow with RGB data ([0..1] for floats or [0..255] for integers).\n",
      "Clipping input data to the valid range for imshow with RGB data ([0..1] for floats or [0..255] for integers).\n",
      "Clipping input data to the valid range for imshow with RGB data ([0..1] for floats or [0..255] for integers).\n",
      "Clipping input data to the valid range for imshow with RGB data ([0..1] for floats or [0..255] for integers).\n",
      "Clipping input data to the valid range for imshow with RGB data ([0..1] for floats or [0..255] for integers).\n",
      "Clipping input data to the valid range for imshow with RGB data ([0..1] for floats or [0..255] for integers).\n",
      "Clipping input data to the valid range for imshow with RGB data ([0..1] for floats or [0..255] for integers).\n",
      "Clipping input data to the valid range for imshow with RGB data ([0..1] for floats or [0..255] for integers).\n"
     ]
    },
    {
     "data": {
      "image/png": "[encoded data removed]",
      "text/plain": [
       "<Figure size 1200x800 with 32 Axes>"
      ]
     },
     "metadata": {},
     "output_type": "display_data"
    }
   ],
   "source": [
    "# # Retrieve a batch of images from the test set\n",
    "# image_batch, label_batch = test_dataset.shuffle(10, seed = None).take(1).as_numpy_iterator().next()\n",
    "# predictions = model.predict_on_batch(image_batch[: 32]).flatten()\n",
    "\n",
    "# predictions = np.where(predictions < 0.5, 0, 1)\n",
    "# label_batch = label_batch[: 32]\n",
    "\n",
    "# print('Predictions:\\n', predictions)\n",
    "# print('Labels:\\n', label_batch)\n",
    "\n",
    "plt.figure(figsize=(12, 8))\n",
    "for i in range(32):\n",
    "    ax = plt.subplot(4, 8, i + 1)\n",
    "    plt.imshow(image_batch[i] * 255.0)\n",
    "    plt.title(str(CLASS_NAMES[predictions[i]]) + \", \" + str(label_batch[i]))\n",
    "    plt.axis(\"off\")"
   ]
  },
  {
   "cell_type": "code",
   "execution_count": null,
   "id": "96c7402a",
   "metadata": {},
   "outputs": [],
   "source": []
  }
 ],
 "metadata": {
  "kernelspec": {
   "display_name": "Python 3 (ipykernel)",
   "language": "python",
   "name": "python3"
  },
  "language_info": {
   "codemirror_mode": {
    "name": "ipython",
    "version": 3
   },
   "file_extension": ".py",
   "mimetype": "text/x-python",
   "name": "python",
   "nbconvert_exporter": "python",
   "pygments_lexer": "ipython3",
   "version": "3.8.16"
  }
 },
 "nbformat": 4,
 "nbformat_minor": 5
}
